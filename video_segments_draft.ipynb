{
 "cells": [
  {
   "cell_type": "code",
   "id": "initial_id",
   "metadata": {
    "collapsed": true,
    "ExecuteTime": {
     "end_time": "2024-11-18T19:34:20.367843Z",
     "start_time": "2024-11-18T19:34:13.488451Z"
    }
   },
   "source": [
    "import cv2\n",
    "import numpy as np\n",
    "import mediapipe as mp"
   ],
   "outputs": [
    {
     "name": "stderr",
     "output_type": "stream",
     "text": [
      "2024-11-19 00:34:15.680275: E external/local_xla/xla/stream_executor/cuda/cuda_fft.cc:485] Unable to register cuFFT factory: Attempting to register factory for plugin cuFFT when one has already been registered\n",
      "2024-11-19 00:34:15.789893: E external/local_xla/xla/stream_executor/cuda/cuda_dnn.cc:8454] Unable to register cuDNN factory: Attempting to register factory for plugin cuDNN when one has already been registered\n",
      "2024-11-19 00:34:15.819136: E external/local_xla/xla/stream_executor/cuda/cuda_blas.cc:1452] Unable to register cuBLAS factory: Attempting to register factory for plugin cuBLAS when one has already been registered\n",
      "2024-11-19 00:34:16.000511: I tensorflow/core/platform/cpu_feature_guard.cc:210] This TensorFlow binary is optimized to use available CPU instructions in performance-critical operations.\n",
      "To enable the following instructions: AVX2 FMA, in other operations, rebuild TensorFlow with the appropriate compiler flags.\n",
      "2024-11-19 00:34:18.207273: W tensorflow/compiler/tf2tensorrt/utils/py_utils.cc:38] TF-TRT Warning: Could not find TensorRT\n"
     ]
    }
   ],
   "execution_count": 27
  },
  {
   "metadata": {
    "ExecuteTime": {
     "end_time": "2024-11-18T19:49:50.323049Z",
     "start_time": "2024-11-18T19:49:50.312051Z"
    }
   },
   "cell_type": "code",
   "source": "cap = cv2.VideoCapture(\"/mnt/c/Users/Ali Nasir/ICV_batches/batch_signs_v8/Brady-session-ASL_2011_07_19_Brady-scene-78-1737-1764-camera1.mov\")\n",
   "id": "e265b313a1f7850e",
   "outputs": [],
   "execution_count": 34
  },
  {
   "metadata": {
    "ExecuteTime": {
     "end_time": "2024-11-18T19:49:52.171038Z",
     "start_time": "2024-11-18T19:49:52.164986Z"
    }
   },
   "cell_type": "code",
   "source": [
    "mp_hands =  mp.solutions.hands\n",
    "mp_drawing = mp.solutions.drawing_utils"
   ],
   "id": "51acda9ccf6a507a",
   "outputs": [],
   "execution_count": 35
  },
  {
   "metadata": {
    "ExecuteTime": {
     "end_time": "2024-11-18T19:49:53.785067Z",
     "start_time": "2024-11-18T19:49:53.100708Z"
    }
   },
   "cell_type": "code",
   "source": [
    "\n",
    "\n",
    "while cap.isOpened():\n",
    "    ret, frame = cap.read()\n",
    "    if not ret:  \n",
    "        print(\"END of Frames\")\n",
    "        break\n",
    "    cv2.imshow('frame', frame)\n",
    "    \n",
    "    # Store the key and use it consistently\n",
    "    key = cv2.waitKey(1) & 0xFF == 27\n",
    "    if key == 27:  # Escape key to exit\n",
    "        break\n",
    "\n",
    "cap.release()\n",
    "cv2.destroyAllWindows()\n"
   ],
   "id": "a6e55552a429ca62",
   "outputs": [
    {
     "name": "stdout",
     "output_type": "stream",
     "text": [
      "END of Frames\n"
     ]
    }
   ],
   "execution_count": 36
  },
  {
   "metadata": {
    "ExecuteTime": {
     "end_time": "2024-11-25T21:09:12.325718Z",
     "start_time": "2024-11-25T21:09:11.618766Z"
    }
   },
   "cell_type": "code",
   "source": "import pandas as pd",
   "id": "9d65dac6ed2e0b4f",
   "outputs": [],
   "execution_count": 1
  },
  {
   "metadata": {
    "ExecuteTime": {
     "end_time": "2024-11-25T21:09:31.277618Z",
     "start_time": "2024-11-25T21:09:30.681763Z"
    }
   },
   "cell_type": "code",
   "source": [
    "kp = pd.read_csv(\"keypoints.csv\")\n",
    "kp.info()"
   ],
   "id": "30d5512381155f00",
   "outputs": [
    {
     "name": "stdout",
     "output_type": "stream",
     "text": [
      "<class 'pandas.core.frame.DataFrame'>\n",
      "RangeIndex: 128 entries, 0 to 127\n",
      "Columns: 1663 entries, Label to K1661\n",
      "dtypes: float64(1662), object(1)\n",
      "memory usage: 1.6+ MB\n"
     ]
    }
   ],
   "execution_count": 2
  },
  {
   "metadata": {},
   "cell_type": "code",
   "outputs": [],
   "execution_count": null,
   "source": "",
   "id": "630575641edba07"
  }
 ],
 "metadata": {
  "kernelspec": {
   "display_name": "Python 3",
   "language": "python",
   "name": "python3"
  },
  "language_info": {
   "codemirror_mode": {
    "name": "ipython",
    "version": 2
   },
   "file_extension": ".py",
   "mimetype": "text/x-python",
   "name": "python",
   "nbconvert_exporter": "python",
   "pygments_lexer": "ipython2",
   "version": "2.7.6"
  }
 },
 "nbformat": 4,
 "nbformat_minor": 5
}
